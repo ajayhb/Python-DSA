{
 "cells": [
  {
   "cell_type": "markdown",
   "metadata": {},
   "source": [
    "# Method 1: Memoization"
   ]
  },
  {
   "cell_type": "code",
   "execution_count": 35,
   "metadata": {},
   "outputs": [],
   "source": [
    "t = [[-1]*1000]*100 # Initialize a 2D matrix of 100 rows and 1000 columns as a constraint.\n",
    "def knapsack_memo(weight_arr, value_arr, bag_wt, n):\n",
    "    if n == 0 or bag_wt <= 0: \n",
    "        return 0\n",
    "\n",
    "    if weight_arr[n - 1] <= bag_wt:\n",
    "        if t[n][bag_wt] != -1:\n",
    "            return t[n][bag_wt]\n",
    "        else:\n",
    "            t[n][bag_wt] = max(value_arr[n - 1] + knapsack_memo(weight_arr, value_arr, bag_wt - weight_arr[n-1], n-1),\n",
    "                   knapsack_memo(weight_arr, value_arr, bag_wt, n-1))\n",
    "\n",
    "            return t[n][bag_wt]\n",
    "    else:\n",
    "        t[n][bag_wt] = knapsack_memo(weight_arr, value_arr, bag_wt, n - 1)\n",
    "        return t[n][bag_wt]\n"
   ]
  },
  {
   "cell_type": "code",
   "execution_count": 37,
   "metadata": {},
   "outputs": [
    {
     "name": "stdout",
     "output_type": "stream",
     "text": [
      "Enter Bag Weight: 6\n",
      "42\n"
     ]
    }
   ],
   "source": [
    "wt_arr = [2, 6, 7, 2, 4]\n",
    "val_arr = [12, 17, 14, 15, 16]\n",
    "bag_weight = int(input(\"Enter Bag Weight: \"))\n",
    "if len(wt_arr) != len(val_arr):\n",
    "    print(\"Weight array length must be same as value array length\")\n",
    "else:\n",
    "    a = knapsack_memo(wt_arr, val_arr, bag_weight, len(wt_arr))\n",
    "    print(a)"
   ]
  },
  {
   "cell_type": "markdown",
   "metadata": {},
   "source": [
    "# Method 2: Top-Down Approach"
   ]
  },
  {
   "cell_type": "code",
   "execution_count": 46,
   "metadata": {},
   "outputs": [
    {
     "name": "stdout",
     "output_type": "stream",
     "text": [
      "200\n"
     ]
    }
   ],
   "source": [
    "def knapSack(W, wt, val, n): \n",
    "    table = [[0 for x in range(W + 1)] for x in range(n + 1)] \n",
    "\n",
    "    for i in range(n + 1): \n",
    "        for j in range(W + 1): \n",
    "            if i == 0 or j == 0: \n",
    "                table[i][j] = 0\n",
    "            elif wt[i-1] <= j: \n",
    "                table[i][j] = max(val[i-1] + table[i-1][j-wt[i-1]], table[i-1][j]) \n",
    "            else: \n",
    "                table[i][j] = table[i-1][j] \n",
    "\n",
    "    return table[n][W] \n",
    "\n",
    "val = [60, 100, 120, 40, 35, 70, 62] \n",
    "wt = [10, 20, 30, 12, 17, 16, 24] \n",
    "W = 45\n",
    "n = len(val) \n",
    "print(knapSack(W, wt, val, n)) "
   ]
  }
 ],
 "metadata": {
  "kernelspec": {
   "display_name": "Python 3",
   "language": "python",
   "name": "python3"
  },
  "language_info": {
   "codemirror_mode": {
    "name": "ipython",
    "version": 3
   },
   "file_extension": ".py",
   "mimetype": "text/x-python",
   "name": "python",
   "nbconvert_exporter": "python",
   "pygments_lexer": "ipython3",
   "version": "3.7.3"
  }
 },
 "nbformat": 4,
 "nbformat_minor": 2
}
