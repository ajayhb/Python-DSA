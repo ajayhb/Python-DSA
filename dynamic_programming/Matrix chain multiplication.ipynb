{
 "cells": [
  {
   "cell_type": "markdown",
   "metadata": {},
   "source": [
    "# Method1: Recursive"
   ]
  },
  {
   "cell_type": "code",
   "execution_count": 8,
   "metadata": {},
   "outputs": [],
   "source": [
    "import sys\n",
    "def min_cost_matrix(arr, i, j):\n",
    "    if i >= j:\n",
    "        return 0\n",
    "    mn = sys.maxsize\n",
    "    for k in range(i, j):\n",
    "        temp_val = min_cost_matrix(arr, i, k) + min_cost_matrix(arr, k+1, j) + (arr[i-1]*arr[k]*arr[j])\n",
    "        if temp_val < mn:\n",
    "            mn = temp_val\n",
    "    \n",
    "    return mn"
   ]
  },
  {
   "cell_type": "code",
   "execution_count": 9,
   "metadata": {},
   "outputs": [
    {
     "name": "stdout",
     "output_type": "stream",
     "text": [
      "26000\n"
     ]
    }
   ],
   "source": [
    "arr = [40, 20, 30, 10, 30]\n",
    "i = 1\n",
    "j = len(arr)\n",
    "print(min_cost_matrix(arr, i, j -1))"
   ]
  },
  {
   "cell_type": "code",
   "execution_count": 10,
   "metadata": {},
   "outputs": [
    {
     "name": "stdout",
     "output_type": "stream",
     "text": [
      "30\n"
     ]
    }
   ],
   "source": [
    "arr = [1, 2, 3, 4, 3]\n",
    "i = 1\n",
    "j = len(arr)\n",
    "print(min_cost_matrix(arr, i, j -1))"
   ]
  },
  {
   "cell_type": "code",
   "execution_count": 11,
   "metadata": {},
   "outputs": [
    {
     "name": "stdout",
     "output_type": "stream",
     "text": [
      "18\n"
     ]
    }
   ],
   "source": [
    "arr = [1, 2, 3, 4]\n",
    "i = 1\n",
    "j = len(arr)\n",
    "print(min_cost_matrix(arr, i, j -1))"
   ]
  },
  {
   "cell_type": "markdown",
   "metadata": {},
   "source": [
    "# Method2: Memoization"
   ]
  },
  {
   "cell_type": "code",
   "execution_count": 15,
   "metadata": {
    "collapsed": true
   },
   "outputs": [],
   "source": [
    "import sys\n",
    "def solve(arr, i, j, n):\n",
    "    t = [[-1 for x in range(n)] for x in range(n)] \n",
    "    if i >= j:\n",
    "        return 0\n",
    "    \n",
    "    if t[i][j] != -1:\n",
    "        return t[i][j]\n",
    "    \n",
    "    mn = sys.maxsize\n",
    "    for k in range(i, j):\n",
    "        temp_val = min_cost_matrix(arr, i, k) + min_cost_matrix(arr, k+1, j) + (arr[i-1]*arr[k]*arr[j])\n",
    "        if temp_val < mn:\n",
    "            mn = temp_val\n",
    "            t[i][j] = mn\n",
    "            \n",
    "    return t[i][j]"
   ]
  },
  {
   "cell_type": "code",
   "execution_count": 16,
   "metadata": {},
   "outputs": [
    {
     "name": "stdout",
     "output_type": "stream",
     "text": [
      "26000\n"
     ]
    }
   ],
   "source": [
    "arr = [40, 20, 30, 10, 30]\n",
    "i = 1\n",
    "j = len(arr)\n",
    "print(solve(arr, i, j -1, j))"
   ]
  },
  {
   "cell_type": "code",
   "execution_count": 17,
   "metadata": {},
   "outputs": [
    {
     "name": "stdout",
     "output_type": "stream",
     "text": [
      "18\n"
     ]
    }
   ],
   "source": [
    "arr = [1, 2, 3, 4]\n",
    "i = 1\n",
    "j = len(arr)\n",
    "print(solve(arr, i, j -1, j))"
   ]
  },
  {
   "cell_type": "code",
   "execution_count": 18,
   "metadata": {},
   "outputs": [
    {
     "name": "stdout",
     "output_type": "stream",
     "text": [
      "30\n"
     ]
    }
   ],
   "source": [
    "arr = [1, 2, 3, 4, 3]\n",
    "i = 1\n",
    "j = len(arr)\n",
    "print(solve(arr, i, j -1, j))"
   ]
  },
  {
   "cell_type": "code",
   "execution_count": null,
   "metadata": {
    "collapsed": true
   },
   "outputs": [],
   "source": []
  }
 ],
 "metadata": {
  "kernelspec": {
   "display_name": "Python 3",
   "language": "python",
   "name": "python3"
  },
  "language_info": {
   "codemirror_mode": {
    "name": "ipython",
    "version": 3
   },
   "file_extension": ".py",
   "mimetype": "text/x-python",
   "name": "python",
   "nbconvert_exporter": "python",
   "pygments_lexer": "ipython3",
   "version": "3.6.2"
  }
 },
 "nbformat": 4,
 "nbformat_minor": 2
}
