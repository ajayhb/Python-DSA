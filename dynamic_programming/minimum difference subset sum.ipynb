{
 "cells": [
  {
   "cell_type": "markdown",
   "metadata": {},
   "source": [
    "# Minimum difference subset sum"
   ]
  },
  {
   "cell_type": "code",
   "execution_count": 89,
   "metadata": {},
   "outputs": [],
   "source": [
    "def min_subset_sum(arr, arr_sum):\n",
    "    \"\"\"This function returns the minimum possible difference between the subsets\n",
    "       of the array set. (if not zero)\"\"\"\n",
    "    len_arr = len(arr)\n",
    "    t = [[False for i in range(arr_sum + 1)] for i in range(len_arr + 1)]\n",
    "    threshold = arr_sum // 2\n",
    "    \n",
    "    for i in range(len_arr + 1):\n",
    "        t[i][0] = True\n",
    "    \n",
    "    for i in range(len_arr + 1):\n",
    "        for j in range(arr_sum + 1):\n",
    "            if arr[i - 1] <= j:\n",
    "                t[i][j] = t[i - 1][j - arr[i - 1]] or t[i - 1][j]\n",
    "            else:\n",
    "                t[i][j] = t[i - 1][j]\n",
    "    \n",
    "    vector = []\n",
    "    for i in range(threshold + 1):\n",
    "        if t[len_arr][i] == True:\n",
    "            vector.append(i)\n",
    "    \n",
    "    part_value = vector.pop()\n",
    "    return arr_sum - (2*part_value)"
   ]
  },
  {
   "cell_type": "code",
   "execution_count": 90,
   "metadata": {},
   "outputs": [
    {
     "data": {
      "text/plain": [
       "0"
      ]
     },
     "execution_count": 90,
     "metadata": {},
     "output_type": "execute_result"
    }
   ],
   "source": [
    "arr = [1, 2, 7, 8, 6, 5, 3]\n",
    "sum_arr = 0\n",
    "for i in arr:\n",
    "    sum_arr += i\n",
    "min_subset_sum(arr, sum_arr)"
   ]
  },
  {
   "cell_type": "code",
   "execution_count": 91,
   "metadata": {
    "scrolled": true
   },
   "outputs": [
    {
     "data": {
      "text/plain": [
       "0"
      ]
     },
     "execution_count": 91,
     "metadata": {},
     "output_type": "execute_result"
    }
   ],
   "source": [
    "arr = [2, 3, 7, 8, 10]\n",
    "sum_arr = 0\n",
    "for i in arr:\n",
    "    sum_arr += i\n",
    "min_subset_sum(arr, sum_arr)"
   ]
  },
  {
   "cell_type": "code",
   "execution_count": 92,
   "metadata": {},
   "outputs": [
    {
     "data": {
      "text/plain": [
       "1"
      ]
     },
     "execution_count": 92,
     "metadata": {},
     "output_type": "execute_result"
    }
   ],
   "source": [
    "arr = [1, 3, 6, 4, 12, 5, 2]\n",
    "sum_arr = 0\n",
    "for i in arr:\n",
    "    sum_arr += i\n",
    "min_subset_sum(arr, sum_arr)"
   ]
  },
  {
   "cell_type": "code",
   "execution_count": 93,
   "metadata": {},
   "outputs": [
    {
     "data": {
      "text/plain": [
       "2"
      ]
     },
     "execution_count": 93,
     "metadata": {},
     "output_type": "execute_result"
    }
   ],
   "source": [
    "arr = [2, 5, 5, 10]\n",
    "sum_arr = 0\n",
    "for i in arr:\n",
    "    sum_arr += i\n",
    "min_subset_sum(arr, sum_arr)"
   ]
  },
  {
   "cell_type": "code",
   "execution_count": null,
   "metadata": {},
   "outputs": [],
   "source": []
  }
 ],
 "metadata": {
  "kernelspec": {
   "display_name": "Python 3",
   "language": "python",
   "name": "python3"
  },
  "language_info": {
   "codemirror_mode": {
    "name": "ipython",
    "version": 3
   },
   "file_extension": ".py",
   "mimetype": "text/x-python",
   "name": "python",
   "nbconvert_exporter": "python",
   "pygments_lexer": "ipython3",
   "version": "3.7.3"
  }
 },
 "nbformat": 4,
 "nbformat_minor": 2
}
