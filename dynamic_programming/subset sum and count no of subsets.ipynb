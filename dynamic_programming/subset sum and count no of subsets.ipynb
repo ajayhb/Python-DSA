{
 "cells": [
  {
   "cell_type": "markdown",
   "metadata": {},
   "source": [
    "# Using Dynamic Programming top down approach"
   ]
  },
  {
   "cell_type": "code",
   "execution_count": 105,
   "metadata": {},
   "outputs": [],
   "source": [
    "def subset_sum(sum_arr, reqd_sum_value, sum_arr_length):\n",
    "    t = [[False for i in range(reqd_sum_value + 1)] for i in range(sum_arr_length + 1)]\n",
    "    \n",
    "    for i in range(sum_arr_length + 1): \n",
    "        t[i][0] = True\n",
    "        \n",
    "    for i in range(1, reqd_sum_value + 1):\n",
    "        t[0][i] = False\n",
    "        \n",
    "    for i in range(sum_arr_length + 1):\n",
    "        for j in range(reqd_sum_value + 1):\n",
    "            if sum_arr[i - 1] <= j:\n",
    "                t[i][j] = t[i - 1][j - sum_arr[i - 1]] or t[i - 1][j]\n",
    "            else:\n",
    "                t[i][j] = t[i - 1][j]\n",
    "             \n",
    "    return t[sum_arr_length][reqd_sum_value]"
   ]
  },
  {
   "cell_type": "code",
   "execution_count": 106,
   "metadata": {},
   "outputs": [
    {
     "name": "stdout",
     "output_type": "stream",
     "text": [
      "False\n"
     ]
    }
   ],
   "source": [
    "sum_arr = [2, 3, 7, 8, 10]\n",
    "reqd_sum_value = 14\n",
    "a = subset_sum(sum_arr, reqd_sum_value, len(sum_arr))\n",
    "print(a)"
   ]
  },
  {
   "cell_type": "code",
   "execution_count": 109,
   "metadata": {},
   "outputs": [
    {
     "name": "stdout",
     "output_type": "stream",
     "text": [
      "True\n"
     ]
    }
   ],
   "source": [
    "sum_arr = [3, 34, 4, 12, 5, 2]\n",
    "reqd_sum_value = 60\n",
    "a = subset_sum(sum_arr, reqd_sum_value, len(sum_arr))\n",
    "print(a)"
   ]
  },
  {
   "cell_type": "markdown",
   "metadata": {},
   "source": [
    "# Number of subsets of a given sum"
   ]
  },
  {
   "cell_type": "code",
   "execution_count": 1,
   "metadata": {},
   "outputs": [],
   "source": [
    "def no_subset_sum(sum_arr, reqd_sum_value, sum_arr_length):\n",
    "    t = [[False for i in range(reqd_sum_value + 1)] for i in range(sum_arr_length + 1)]\n",
    "    \n",
    "    for i in range(sum_arr_length + 1): \n",
    "        t[i][0] = True\n",
    "        \n",
    "    for i in range(1, reqd_sum_value + 1):\n",
    "        t[0][i] = False\n",
    "        \n",
    "    for i in range(sum_arr_length + 1):\n",
    "        for j in range(reqd_sum_value + 1):\n",
    "            if sum_arr[i - 1] <= j:\n",
    "                t[i][j] = t[i - 1][j - sum_arr[i - 1]] + t[i - 1][j]\n",
    "            else:\n",
    "                t[i][j] = t[i - 1][j]\n",
    "             \n",
    "    return t[sum_arr_length][reqd_sum_value]"
   ]
  },
  {
   "cell_type": "code",
   "execution_count": 2,
   "metadata": {},
   "outputs": [
    {
     "name": "stdout",
     "output_type": "stream",
     "text": [
      "0\n"
     ]
    }
   ],
   "source": [
    "sum_arr = [2, 3, 7, 8, 10]\n",
    "reqd_sum_value = 14\n",
    "a = no_subset_sum(sum_arr, reqd_sum_value, len(sum_arr))\n",
    "print(a)"
   ]
  },
  {
   "cell_type": "code",
   "execution_count": 4,
   "metadata": {},
   "outputs": [
    {
     "name": "stdout",
     "output_type": "stream",
     "text": [
      "3\n"
     ]
    }
   ],
   "source": [
    "sum_arr = [3, 34, 4, 12, 5, 2]\n",
    "reqd_sum_value = 12\n",
    "a = no_subset_sum(sum_arr, reqd_sum_value, len(sum_arr))\n",
    "print(a)"
   ]
  },
  {
   "cell_type": "code",
   "execution_count": 5,
   "metadata": {},
   "outputs": [
    {
     "name": "stdout",
     "output_type": "stream",
     "text": [
      "5\n"
     ]
    }
   ],
   "source": [
    "sum_arr = [10, 5, 5, 4, 4, 2, 8]\n",
    "reqd_sum_value = 10\n",
    "a = no_subset_sum(sum_arr, reqd_sum_value, len(sum_arr))\n",
    "print(a)"
   ]
  },
  {
   "cell_type": "code",
   "execution_count": null,
   "metadata": {},
   "outputs": [],
   "source": []
  }
 ],
 "metadata": {
  "kernelspec": {
   "display_name": "Python 3",
   "language": "python",
   "name": "python3"
  },
  "language_info": {
   "codemirror_mode": {
    "name": "ipython",
    "version": 3
   },
   "file_extension": ".py",
   "mimetype": "text/x-python",
   "name": "python",
   "nbconvert_exporter": "python",
   "pygments_lexer": "ipython3",
   "version": "3.7.3"
  }
 },
 "nbformat": 4,
 "nbformat_minor": 2
}
